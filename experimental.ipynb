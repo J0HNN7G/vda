{
 "cells": [
  {
   "cell_type": "markdown",
   "id": "fcaa82d6-cd70-4f95-b936-939b56e16be7",
   "metadata": {},
   "source": [
    "## Loading datasets"
   ]
  },
  {
   "cell_type": "code",
   "execution_count": null,
   "id": "27c5bd49-0616-4088-bba4-dda9544b1623",
   "metadata": {},
   "outputs": [],
   "source": [
    "import os\n",
    "\n",
    "import torch\n",
    "import torch.nn.functional as F\n",
    "import numpy as np\n",
    "\n",
    "from utils.dataset import TrainDataset\n",
    "from utils.mask import tensor_arr_dist_circle_mask, tensor_img_dist_circle_mask \n",
    "from utils.optical_flow.spynet import spynet_optical_flow \n",
    "from utils.optical_flow.farneback import farneback_optical_flow\n",
    "from utils.visualization import show_imgs, show_farneback_optical_flows, save_spynet_optical_flows\n",
    "\n",
    "# Dataset and Loader\n",
    "dataset_test = TrainDataset(\n",
    "    [os.path.join('data/same_vis_same_phys/train/', fp) for fp in os.listdir('data/same_vis_same_phys/train/')],\n",
    "    batch_size_per_gpu=1,\n",
    "    img_size=(256, 256),\n",
    "    buffer_size=3)\n",
    " \n",
    "loader_train = torch.utils.data.DataLoader(\n",
    "    dataset_test,\n",
    "    batch_size=1,  # we have modified data_parallel\n",
    "    shuffle=False,  # we do not use this param\n",
    "    drop_last=True,\n",
    "    num_workers=4,\n",
    "    collate_fn = (lambda x: x),\n",
    "    pin_memory=True)\n",
    "\n",
    "# create loader iterator\n",
    "iterator_train = iter(loader_train)"
   ]
  },
  {
   "cell_type": "code",
   "execution_count": null,
   "id": "59345f33-6d03-4eb2-83d5-0890f02c6608",
   "metadata": {},
   "outputs": [],
   "source": [
    "output = iterator_train.next()\n",
    "output = output[0]"
   ]
  },
  {
   "cell_type": "markdown",
   "id": "8a49953d-acd9-4bf3-bb35-a8fc5aaa0b0b",
   "metadata": {},
   "source": [
    "## Metres to pixel based masking"
   ]
  },
  {
   "cell_type": "code",
   "execution_count": null,
   "id": "27aa4b1b-ccd6-4450-9bf2-5a2e4fdf2ff1",
   "metadata": {},
   "outputs": [],
   "source": [
    "# px_per_m calculation\n",
    "q = 55.0 * np.pi / 180\n",
    "focal_length = 256.0 / np.tan(q/2)\n",
    "px_per_m = focal_length * 1/2\n",
    "m_per_px = 1 / px_per_m"
   ]
  },
  {
   "cell_type": "code",
   "execution_count": null,
   "id": "710a92bd-47e3-4919-bcd9-4759c456710b",
   "metadata": {},
   "outputs": [],
   "source": [
    "# backtracking 256 px_per_m to q\n",
    "focal_length = 2 * 256\n",
    "q = np.arctan(256.0 / focal_length) * 2 * 180 / np.pi"
   ]
  },
  {
   "cell_type": "markdown",
   "id": "cc10b3b3-a7f6-490a-9248-b269c1f29021",
   "metadata": {},
   "source": [
    "## Testing images and optical flow"
   ]
  },
  {
   "cell_type": "code",
   "execution_count": null,
   "id": "3d001d0d-89b2-41b8-88cf-157bb707ddee",
   "metadata": {},
   "outputs": [],
   "source": [
    "for i in range(len(output['img_data'][0])):\n",
    "    show_imgs([output['img_data'][0, i]])"
   ]
  },
  {
   "cell_type": "code",
   "execution_count": null,
   "id": "afbb3c1b-f27d-41fb-9d69-e7fec0634b63",
   "metadata": {},
   "outputs": [],
   "source": [
    "for cx,cy,cr in output['state_label'][0][0][:, [0,1,-2]].detach().numpy():\n",
    "    show_imgs([tensor_img_dist_circle_mask(output['img_data'][0][0], cx, cy, cr + 0.05)])"
   ]
  },
  {
   "cell_type": "code",
   "execution_count": null,
   "id": "d56433b7-e8cc-49eb-9199-7646cf5e8739",
   "metadata": {},
   "outputs": [],
   "source": [
    "opt_flow_masks = []\n",
    "cxs = []\n",
    "cys = []\n",
    "crs = []\n",
    "\n",
    "for i in range(2):\n",
    "    opt_flow = farneback_optical_flow(output['img_data'][0][i], output['img_data'][0][i+1])\n",
    "    opt_flow_masks.append(opt_flow)\n",
    "    \n",
    "    for j in range(3):\n",
    "        cx = output['state_label'][0][i][j, 0]\n",
    "        cy = output['state_label'][0][i][j, 1]\n",
    "        cr = output['state_label'][0][i][j, -2]\n",
    "        \n",
    "        cxs.append(cx)\n",
    "        cys.append(cy)\n",
    "        crs.append(cr)    \n",
    "        opt_flow_masks.append(tensor_arr_dist_circle_mask(opt_flow, cx, cy, cr, 0.1))\n",
    "\n",
    "for i in range(len(opt_flow_masks)):\n",
    "    show_farneback_optical_flows([opt_flow_masks[i]])"
   ]
  },
  {
   "cell_type": "code",
   "execution_count": null,
   "id": "552b4c63-8c92-402f-9d97-745e96159112",
   "metadata": {},
   "outputs": [],
   "source": [
    "opt_flow_masks = []\n",
    "cxs = []\n",
    "cys = []\n",
    "crs = []\n",
    "\n",
    "for i in range(2):\n",
    "    opt_flow = spynet_optical_flow(output['img_data'][0][i], output['img_data'][0][i+1])\n",
    "    opt_flow_masks.append(opt_flow)\n",
    "    \n",
    "    for j in range(3):\n",
    "        cx = output['state_label'][0][i][j, 0]\n",
    "        cy = output['state_label'][0][i][j, 1]\n",
    "        cr = output['state_label'][0][i][j, -1]\n",
    "        \n",
    "        cxs.append(cx)\n",
    "        cys.append(cy)\n",
    "        crs.append(cr)    \n",
    "        opt_flow_masks.append(tensor_arr_dist_circle_mask(opt_flow, cx, cy, cr, 0.1))\n",
    "\n",
    "#save_spynet_optical_flows(opt_flow_masks)"
   ]
  },
  {
   "cell_type": "code",
   "execution_count": null,
   "id": "bc9e617b-344a-411c-8af1-49a80252fc29",
   "metadata": {},
   "outputs": [],
   "source": [
    "input_data = output['img_data']\n",
    "output_data = output['state_label']\n",
    "\n",
    "BA, BU, C, H, W = input_data.shape\n",
    "_, _, num_balls, num_features = output_data.shape\n",
    "processed_output_data = output_data\n",
    "\n",
    "C_Final = BU * 3 + (BU - 1) * 2\n",
    "input_processed = torch.zeros(BA, num_balls, C_Final, H, W)\n",
    "assert BU == 3\n",
    "for i in range(BA):\n",
    "    for j in range(BU):\n",
    "        img_orig = input_data[i, j, ...]\n",
    "        for k in range(num_balls):\n",
    "            cx, cy, cr = output_data[i, j, k, [0, 1, -2]]\n",
    "            img_masked = tensor_img_dist_circle_mask(img_orig, cx, cy, cr+0.05)\n",
    "            input_processed[i, k, j * 3:(j + 1) * 3, ...] = img_masked\n",
    "            if j != BU-1:\n",
    "                opt_flow = farneback_optical_flow(input_data[i][j], input_data[i][j+1])\n",
    "                opt_flow_masked = tensor_arr_dist_circle_mask(opt_flow, cx, cy, cr, 0.1)\n",
    "                input_processed[i, k, BU*3 + j*2:BU*3 + (j+1)*2, ...] = opt_flow_masked\n",
    "input_processed = torch.flatten(input_processed, end_dim=1)"
   ]
  },
  {
   "cell_type": "code",
   "execution_count": null,
   "id": "a87d2412-e862-4273-9dbe-ae158f28a96c",
   "metadata": {},
   "outputs": [],
   "source": [
    "#input_processed = input_processed.view(-1, num_balls, C_Final, H, W)\n",
    "#for i in range(BA):\n",
    "   #print(f'batch {i}')\n",
    "   #for k in range(num_balls):\n",
    "       #print(f'ball {k}')\n",
    "       #for j in range(BU):\n",
    "           #print(f'buffer {j}')\n",
    "           #masked_img = input_processed[i,k, j * 3:(j + 1) * 3, ...]\n",
    "           #show_imgs([masked_img])\n",
    "           #if j != BU-1:\n",
    "           #    opt_flow_masked = input_processed[i + k, BU*3 + j*2:BU*3 + (j+1)*2]\n",
    "           #    show_farneback_optical_flows([opt_flow_masked])"
   ]
  },
  {
   "cell_type": "markdown",
   "id": "c94215d7-9b24-4752-8fc4-77b666bddfb6",
   "metadata": {},
   "source": [
    "### labelling function"
   ]
  },
  {
   "cell_type": "code",
   "execution_count": null,
   "id": "654199c5-811c-4815-83a8-0a5e9c6f1a56",
   "metadata": {},
   "outputs": [],
   "source": [
    "label = torch.zeros(1000, dtype=torch.long)\n",
    "label[:] = 0\n",
    "\n",
    "output = torch.rand(1000,9)\n",
    "\n",
    "pred_log_prob = F.log_softmax(output, dim=1)\n",
    "preds = torch.argmax(output, dim=1)\n",
    "valid = (label >= 0).long()\n",
    "acc_sum = torch.sum(valid * (preds == label).long())\n",
    "valid_sum = torch.sum(valid)\n",
    "acc = acc_sum.float() / (valid_sum.float() + 1e-10)\n",
    "#print(label)\n",
    "#print(preds)\n",
    "print(acc)"
   ]
  },
  {
   "cell_type": "markdown",
   "id": "2a2312db-2881-43a2-aeee-ea44bc7b11ec",
   "metadata": {},
   "source": [
    "### Dataset indexing function"
   ]
  },
  {
   "cell_type": "code",
   "execution_count": null,
   "id": "a215afcb-72ea-4a43-b93d-1fc6e986d20f",
   "metadata": {},
   "outputs": [],
   "source": [
    "def idx2idxs(idx, arr):\n",
    "    if all(len(arr[0]) == len(x) for x in arr):\n",
    "        shape = [len(arr), len(arr[0])]\n",
    "        num_dims = len(shape)\n",
    "        offset = 1\n",
    "        idxs = [0] * num_dims\n",
    "        for i in range(num_dims - 1, -1, -1):\n",
    "            idxs[i] = idx // offset % shape[i]\n",
    "            offset *= shape[i]\n",
    "    else:\n",
    "        count = 0\n",
    "        for i in range(len(arr)):\n",
    "            if count + len(arr[i]) > idx:\n",
    "                idxs = [i, idx - count]\n",
    "                break\n",
    "            count += len(arr[i])\n",
    "    return tuple(idxs)"
   ]
  },
  {
   "cell_type": "code",
   "execution_count": null,
   "id": "8bc14747-74e6-42ef-a258-f906fef6f81b",
   "metadata": {},
   "outputs": [],
   "source": [
    "idx = 1999\n",
    "A = np.arange(1000).reshape((8,-1))\n",
    "B = np.arange(1000, 2000).reshape((5,-1))\n",
    "C = list(A) + list(B)\n",
    "i,j = idx2idxs(idx, C)\n",
    "print(i,j)\n",
    "print(C[i][j])"
   ]
  },
  {
   "cell_type": "code",
   "execution_count": null,
   "id": "40fa7810-9538-4ccd-8622-8c84227dff75",
   "metadata": {},
   "outputs": [],
   "source": [
    "B.shape"
   ]
  },
  {
   "cell_type": "code",
   "execution_count": null,
   "id": "ca32b7eb-c2df-4f85-ac36-0025cda22017",
   "metadata": {},
   "outputs": [],
   "source": [
    "torch.ones(2,2,2) * -1"
   ]
  },
  {
   "cell_type": "code",
   "execution_count": null,
   "id": "b14ca453-2ae5-49bd-ac08-4a6b061b703d",
   "metadata": {},
   "outputs": [],
   "source": []
  }
 ],
 "metadata": {
  "kernelspec": {
   "display_name": "Python 3 (ipykernel)",
   "language": "python",
   "name": "python3"
  },
  "language_info": {
   "codemirror_mode": {
    "name": "ipython",
    "version": 3
   },
   "file_extension": ".py",
   "mimetype": "text/x-python",
   "name": "python",
   "nbconvert_exporter": "python",
   "pygments_lexer": "ipython3",
   "version": "3.8.10"
  }
 },
 "nbformat": 4,
 "nbformat_minor": 5
}
