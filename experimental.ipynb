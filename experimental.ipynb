{
 "cells": [
  {
   "cell_type": "markdown",
   "id": "fcaa82d6-cd70-4f95-b936-939b56e16be7",
   "metadata": {},
   "source": [
    "## Loading datasets"
   ]
  },
  {
   "cell_type": "code",
   "execution_count": 1,
   "id": "27c5bd49-0616-4088-bba4-dda9544b1623",
   "metadata": {},
   "outputs": [
    {
     "name": "stdout",
     "output_type": "stream",
     "text": [
      "# buffer samples: 55\n"
     ]
    }
   ],
   "source": [
    "import os\n",
    "\n",
    "import torch\n",
    "import torch.nn.functional as F\n",
    "import numpy as np\n",
    "import cv2\n",
    "\n",
    "import matplotlib.pyplot as plt\n",
    "import matplotlib.patches as patches\n",
    "\n",
    "from utils.dataset import TrainDataset\n",
    "from utils.mask import tensor_arr_dist_circle_mask, tensor_img_dist_circle_mask, tensor_img_px_circle_mask, get_tensor_img_px_circle_mask_rgb\n",
    "from utils.optical_flow.spynet import spynet_optical_flow \n",
    "from utils.optical_flow.farneback import farneback_optical_flow\n",
    "from utils.visualization import show_imgs, show_farneback_optical_flows, save_spynet_optical_flows\n",
    "from utils.pose import get_circular_poses\n",
    "\n",
    "# Dataset and Loader\n",
    "dataset_test = TrainDataset(\n",
    "    [[os.path.join('data/same_vis_same_phys/train/', fp) for fp in os.listdir('data/same_vis_same_phys/train/')][1]],\n",
    "    batch_size_per_gpu=1,\n",
    "    img_size=(256, 256),\n",
    "    buffer_size=3)\n",
    " \n",
    "loader_train = torch.utils.data.DataLoader(\n",
    "    dataset_test,\n",
    "    batch_size=1,  # we have modified data_parallel\n",
    "    shuffle=False,  # we do not use this param\n",
    "    drop_last=True,\n",
    "    num_workers=4,\n",
    "    collate_fn = (lambda x: x),\n",
    "    pin_memory=True)\n",
    "\n",
    "# create loader iterator\n",
    "iterator_train = iter(loader_train)"
   ]
  },
  {
   "cell_type": "markdown",
   "id": "bb854c52-4526-4e03-8b9a-343674a40f20",
   "metadata": {},
   "source": [
    "### Extract integers"
   ]
  },
  {
   "cell_type": "code",
   "execution_count": 2,
   "id": "a93fb7fc-11a8-4ed9-a976-611b7c8e7e16",
   "metadata": {},
   "outputs": [],
   "source": [
    "def extract_integers(filename):\n",
    "    split_list = filename.split('.')[0].split('_') \n",
    "    int1 = split_list[1]\n",
    "    int2 = split_list[3]\n",
    "    return int(f'{int1}{int2}')\n",
    "\n",
    "def extract_integer(filename):\n",
    "    return int(filename.split('.')[0].split('_')[1])\n",
    "\n",
    "\n",
    "def check_list(input_list):\n",
    "    for buffer_idx, buffer in enumerate(input_list):\n",
    "        previous_timestep = -1\n",
    "        for timestep_file in buffer:\n",
    "            file_parts = timestep_file.split('_')\n",
    "            current_buffer = int(file_parts[1])\n",
    "            current_timestep = int(file_parts[3].split('.')[0])\n",
    "\n",
    "            if current_buffer != buffer_idx or current_timestep != previous_timestep + 1:\n",
    "                return False\n",
    "\n",
    "            previous_timestep = current_timestep\n",
    "\n",
    "    return True\n",
    "\n",
    "\n",
    "sample_list = [['buffer_0_timestep_0.png', 'buffer_0_timestep_1.png', 'buffer_0_timestep_2.png'],\n",
    "               ['buffer_1_timestep_0.png', 'buffer_1_timestep_1.png', 'buffer_1_timestep_-1.png'],\n",
    "               ['buffer_2_timestep_0.png', 'buffer_2_timestep_1.png', 'buffer_2_timestep_2.png']]\n",
    "\n",
    "result = check_list(sample_list)"
   ]
  },
  {
   "cell_type": "markdown",
   "id": "5dddaa6d-ce32-414e-bfe6-98f103141926",
   "metadata": {},
   "source": [
    "### Mean color"
   ]
  },
  {
   "cell_type": "code",
   "execution_count": 3,
   "id": "f0aa966d-3cee-44e9-8158-a876584ab97e",
   "metadata": {},
   "outputs": [
    {
     "name": "stdout",
     "output_type": "stream",
     "text": [
      "55\n",
      "tensor([0.4401, 0.5570, 0.7492])\n"
     ]
    },
    {
     "data": {
      "text/plain": [
       "<matplotlib.image.AxesImage at 0x7fe1ac2a9910>"
      ]
     },
     "execution_count": 3,
     "metadata": {},
     "output_type": "execute_result"
    },
    {
     "data": {
      "image/png": "[encoded data removed]",
      "text/plain": [
       "<Figure size 432x288 with 1 Axes>"
      ]
     },
     "metadata": {
      "needs_background": "light"
     },
     "output_type": "display_data"
    }
   ],
   "source": [
    "# get an example\n",
    "output = iterator_train.next()\n",
    "output = output[0]['img_data'][0]\n",
    "\n",
    "p0 = get_circular_poses(output[0]).numpy()\n",
    "\n",
    "rgb_values = get_tensor_img_px_circle_mask_rgb(output[0], p0[0,0], p0[0,1], p0[0,2])\n",
    "print(len(rgb_values))\n",
    "mean_rgb = rgb_values.mean(axis=0) \n",
    "print(mean_rgb)\n",
    "plt.imshow([[tuple(mean_rgb.numpy())]])"
   ]
  },
  {
   "cell_type": "markdown",
   "id": "195b095b-d15f-4590-8506-52855e176d3b",
   "metadata": {},
   "source": [
    "### Multi-Object Tracking"
   ]
  },
  {
   "cell_type": "code",
   "execution_count": 4,
   "id": "6edea95d-6976-4f9c-ab52-dad427cf26e7",
   "metadata": {},
   "outputs": [
    {
     "name": "stdout",
     "output_type": "stream",
     "text": [
      "236.12279 121.39987 4.35496\n"
     ]
    },
    {
     "data": {
      "image/png": "[encoded data removed]",
      "text/plain": [
       "<Figure size 432x288 with 1 Axes>"
      ]
     },
     "metadata": {},
     "output_type": "display_data"
    },
    {
     "name": "stdout",
     "output_type": "stream",
     "text": [
      "175.32233 53.283646 4.206762\n"
     ]
    },
    {
     "data": {
      "image/png": "[encoded data removed]",
      "text/plain": [
       "<Figure size 432x288 with 1 Axes>"
      ]
     },
     "metadata": {},
     "output_type": "display_data"
    },
    {
     "name": "stdout",
     "output_type": "stream",
     "text": [
      "156.98427 26.491158 4.3862276\n"
     ]
    },
    {
     "data": {
      "image/png": "[encoded data removed]",
      "text/plain": [
       "<Figure size 432x288 with 1 Axes>"
      ]
     },
     "metadata": {},
     "output_type": "display_data"
    },
    {
     "name": "stdout",
     "output_type": "stream",
     "text": [
      "238.15836 118.14292 4.35496\n"
     ]
    },
    {
     "data": {
      "image/png": "[encoded data removed]",
      "text/plain": [
       "<Figure size 432x288 with 1 Axes>"
      ]
     },
     "metadata": {},
     "output_type": "display_data"
    },
    {
     "name": "stdout",
     "output_type": "stream",
     "text": [
      "177.10324 55.090855 4.206762\n"
     ]
    },
    {
     "data": {
      "image/png": "[encoded data removed]",
      "text/plain": [
       "<Figure size 432x288 with 1 Axes>"
      ]
     },
     "metadata": {},
     "output_type": "display_data"
    },
    {
     "name": "stdout",
     "output_type": "stream",
     "text": [
      "160.79115 28.903587 4.3862276\n"
     ]
    },
    {
     "data": {
      "image/png": "[encoded data removed]",
      "text/plain": [
       "<Figure size 432x288 with 1 Axes>"
      ]
     },
     "metadata": {},
     "output_type": "display_data"
    }
   ],
   "source": [
    "# get an example\n",
    "output = iterator_train.next()\n",
    "output = output[0]['img_data'][0]\n",
    "\n",
    "p0= get_circular_poses(output[0]).numpy()\n",
    "\n",
    "# Create some random colors\n",
    "color = np.random.randint(0, 255, (100, 3))\n",
    "\n",
    "for i in range(len(output)-1):\n",
    "    opt_flow = farneback_optical_flow(output[i], output[i+1])\n",
    "    p1 = []\n",
    "    for keypoint in p0:\n",
    "        x, y = keypoint[0], keypoint[1]\n",
    "        x += opt_flow[0,int(y), int(x)].numpy()\n",
    "        y += opt_flow[1,int(y), int(x)].numpy()\n",
    "        p1.append([x, y, keypoint[2]])\n",
    "        print(x,y,keypoint[2])\n",
    "        show_imgs([tensor_img_px_circle_mask(output[i+1], x, y, keypoint[2]+10)])\n",
    "    \n",
    "    p0 = p1"
   ]
  },
  {
   "cell_type": "markdown",
   "id": "8a49953d-acd9-4bf3-bb35-a8fc5aaa0b0b",
   "metadata": {},
   "source": [
    "## Metres to pixel based masking"
   ]
  },
  {
   "cell_type": "code",
   "execution_count": 5,
   "id": "27aa4b1b-ccd6-4450-9bf2-5a2e4fdf2ff1",
   "metadata": {},
   "outputs": [],
   "source": [
    "# px_per_m calculation\n",
    "q = 55.0 * np.pi / 180\n",
    "focal_length = 256.0 / np.tan(q/2)\n",
    "px_per_m = focal_length * 1/2\n",
    "m_per_px = 1 / px_per_m"
   ]
  },
  {
   "cell_type": "code",
   "execution_count": 6,
   "id": "710a92bd-47e3-4919-bcd9-4759c456710b",
   "metadata": {},
   "outputs": [],
   "source": [
    "# backtracking 256 px_per_m to q\n",
    "focal_length = 2 * 256\n",
    "q = np.arctan(256.0 / focal_length) * 2 * 180 / np.pi"
   ]
  },
  {
   "cell_type": "markdown",
   "id": "cc10b3b3-a7f6-490a-9248-b269c1f29021",
   "metadata": {},
   "source": [
    "## Testing images and optical flow"
   ]
  },
  {
   "cell_type": "code",
   "execution_count": 7,
   "id": "3d001d0d-89b2-41b8-88cf-157bb707ddee",
   "metadata": {},
   "outputs": [
    {
     "data": {
      "image/png": "[encoded data removed]",
      "text/plain": [
       "<Figure size 432x288 with 1 Axes>"
      ]
     },
     "metadata": {},
     "output_type": "display_data"
    },
    {
     "data": {
      "image/png": "[encoded data removed]",
      "text/plain": [
       "<Figure size 432x288 with 1 Axes>"
      ]
     },
     "metadata": {},
     "output_type": "display_data"
    },
    {
     "data": {
      "image/png": "[encoded data removed]",
      "text/plain": [
       "<Figure size 432x288 with 1 Axes>"
      ]
     },
     "metadata": {},
     "output_type": "display_data"
    }
   ],
   "source": [
    "output = iterator_train.next()\n",
    "for i in range(len(output[0]['img_data'][0])):\n",
    "    show_imgs([output[0]['img_data'][0,i]])"
   ]
  },
  {
   "cell_type": "code",
   "execution_count": 8,
   "id": "afbb3c1b-f27d-41fb-9d69-e7fec0634b63",
   "metadata": {},
   "outputs": [
    {
     "data": {
      "image/png": "[encoded data removed]",
      "text/plain": [
       "<Figure size 432x288 with 1 Axes>"
      ]
     },
     "metadata": {},
     "output_type": "display_data"
    },
    {
     "data": {
      "image/png": "[encoded data removed]",
      "text/plain": [
       "<Figure size 432x288 with 1 Axes>"
      ]
     },
     "metadata": {},
     "output_type": "display_data"
    },
    {
     "data": {
      "image/png": "[encoded data removed]",
      "text/plain": [
       "<Figure size 432x288 with 1 Axes>"
      ]
     },
     "metadata": {},
     "output_type": "display_data"
    }
   ],
   "source": [
    "for cx,cy,cr in output[0]['state_label'][0][0][:, [0,1,-2]].detach().numpy():\n",
    "    show_imgs([tensor_img_dist_circle_mask(output[0]['img_data'][0, 0], cx, cy, cr + 0.05)])"
   ]
  },
  {
   "cell_type": "code",
   "execution_count": 9,
   "id": "d56433b7-e8cc-49eb-9199-7646cf5e8739",
   "metadata": {},
   "outputs": [
    {
     "name": "stderr",
     "output_type": "stream",
     "text": [
      "Clipping input data to the valid range for imshow with RGB data ([0..1] for floats or [0..255] for integers).\n"
     ]
    },
    {
     "name": "stdout",
     "output_type": "stream",
     "text": [
      "tensor([[ 0.4590,  0.5105,  0.3932, -0.3925,  0.0300,  6.0000],\n",
      "        [ 0.4053,  0.6939,  0.8605, -0.5513,  0.0300,  6.0000],\n",
      "        [ 0.9600,  0.1954,  0.4692,  0.7521,  0.0300,  6.0000]])\n",
      "(2, 256, 256)\n"
     ]
    },
    {
     "data": {
      "image/png": "[encoded data removed]",
      "text/plain": [
       "<Figure size 432x288 with 1 Axes>"
      ]
     },
     "metadata": {},
     "output_type": "display_data"
    },
    {
     "name": "stderr",
     "output_type": "stream",
     "text": [
      "Clipping input data to the valid range for imshow with RGB data ([0..1] for floats or [0..255] for integers).\n"
     ]
    },
    {
     "name": "stdout",
     "output_type": "stream",
     "text": [
      "(2, 256, 256)\n"
     ]
    },
    {
     "data": {
      "image/png": "[encoded data removed]",
      "text/plain": [
       "<Figure size 432x288 with 1 Axes>"
      ]
     },
     "metadata": {},
     "output_type": "display_data"
    },
    {
     "name": "stderr",
     "output_type": "stream",
     "text": [
      "Clipping input data to the valid range for imshow with RGB data ([0..1] for floats or [0..255] for integers).\n"
     ]
    },
    {
     "name": "stdout",
     "output_type": "stream",
     "text": [
      "(2, 256, 256)\n"
     ]
    },
    {
     "data": {
      "image/png": "[encoded data removed]",
      "text/plain": [
       "<Figure size 432x288 with 1 Axes>"
      ]
     },
     "metadata": {},
     "output_type": "display_data"
    },
    {
     "name": "stderr",
     "output_type": "stream",
     "text": [
      "Clipping input data to the valid range for imshow with RGB data ([0..1] for floats or [0..255] for integers).\n"
     ]
    },
    {
     "name": "stdout",
     "output_type": "stream",
     "text": [
      "(2, 256, 256)\n"
     ]
    },
    {
     "data": {
      "image/png": "[encoded data removed]",
      "text/plain": [
       "<Figure size 432x288 with 1 Axes>"
      ]
     },
     "metadata": {},
     "output_type": "display_data"
    },
    {
     "name": "stderr",
     "output_type": "stream",
     "text": [
      "Clipping input data to the valid range for imshow with RGB data ([0..1] for floats or [0..255] for integers).\n"
     ]
    },
    {
     "name": "stdout",
     "output_type": "stream",
     "text": [
      "(2, 256, 256)\n"
     ]
    },
    {
     "data": {
      "image/png": "[encoded data removed]",
      "text/plain": [
       "<Figure size 432x288 with 1 Axes>"
      ]
     },
     "metadata": {},
     "output_type": "display_data"
    },
    {
     "name": "stderr",
     "output_type": "stream",
     "text": [
      "Clipping input data to the valid range for imshow with RGB data ([0..1] for floats or [0..255] for integers).\n"
     ]
    },
    {
     "name": "stdout",
     "output_type": "stream",
     "text": [
      "(2, 256, 256)\n"
     ]
    },
    {
     "data": {
      "image/png": "[encoded data removed]",
      "text/plain": [
       "<Figure size 432x288 with 1 Axes>"
      ]
     },
     "metadata": {},
     "output_type": "display_data"
    },
    {
     "name": "stderr",
     "output_type": "stream",
     "text": [
      "Clipping input data to the valid range for imshow with RGB data ([0..1] for floats or [0..255] for integers).\n"
     ]
    },
    {
     "name": "stdout",
     "output_type": "stream",
     "text": [
      "(2, 256, 256)\n"
     ]
    },
    {
     "data": {
      "image/png": "[encoded data removed]",
      "text/plain": [
       "<Figure size 432x288 with 1 Axes>"
      ]
     },
     "metadata": {},
     "output_type": "display_data"
    },
    {
     "name": "stderr",
     "output_type": "stream",
     "text": [
      "Clipping input data to the valid range for imshow with RGB data ([0..1] for floats or [0..255] for integers).\n"
     ]
    },
    {
     "name": "stdout",
     "output_type": "stream",
     "text": [
      "(2, 256, 256)\n"
     ]
    },
    {
     "data": {
      "image/png": "[encoded data removed]",
      "text/plain": [
       "<Figure size 432x288 with 1 Axes>"
      ]
     },
     "metadata": {},
     "output_type": "display_data"
    }
   ],
   "source": [
    "opt_flow_masks = []\n",
    "cxs = []\n",
    "cys = []\n",
    "crs = []\n",
    "\n",
    "print(output[0]['state_label'][0][0])\n",
    "for i in range(2):\n",
    "    opt_flow = farneback_optical_flow(output[0]['img_data'][0][i], output[0]['img_data'][0][i+1])\n",
    "    opt_flow_masks.append(opt_flow)\n",
    "    \n",
    "    for j in range(3):\n",
    "        cx = output[0]['state_label'][0][i][j, 0]\n",
    "        cy = output[0]['state_label'][0][i][j, 1]\n",
    "        cr = output[0]['state_label'][0][i][j, -2]\n",
    "        \n",
    "        cxs.append(cx)\n",
    "        cys.append(cy)\n",
    "        crs.append(cr)    \n",
    "        opt_flow_masks.append(tensor_arr_dist_circle_mask(opt_flow, cx, cy, cr, 0.1))\n",
    "\n",
    "for i in range(len(opt_flow_masks)):\n",
    "    show_farneback_optical_flows([opt_flow_masks[i]])"
   ]
  },
  {
   "cell_type": "code",
   "execution_count": 10,
   "id": "552b4c63-8c92-402f-9d97-745e96159112",
   "metadata": {},
   "outputs": [],
   "source": [
    "opt_flow_masks = []\n",
    "cxs = []\n",
    "cys = []\n",
    "crs = []\n",
    "\n",
    "for i in range(2):\n",
    "    opt_flow = spynet_optical_flow(output[0]['img_data'][0][i], output[0]['img_data'][0][i+1])\n",
    "    opt_flow_masks.append(opt_flow)\n",
    "    \n",
    "    for j in range(3):\n",
    "        cx = output[0]['state_label'][0][i][j, 0]\n",
    "        cy = output[0]['state_label'][0][i][j, 1]\n",
    "        cr = output[0]['state_label'][0][i][j, -1]\n",
    "        \n",
    "        cxs.append(cx)\n",
    "        cys.append(cy)\n",
    "        crs.append(cr)    \n",
    "        opt_flow_masks.append(tensor_arr_dist_circle_mask(opt_flow, cx, cy, cr, 0.1))\n",
    "\n",
    "#save_spynet_optical_flows(opt_flow_masks)"
   ]
  },
  {
   "cell_type": "code",
   "execution_count": 11,
   "id": "bc9e617b-344a-411c-8af1-49a80252fc29",
   "metadata": {},
   "outputs": [],
   "source": [
    "input_data = output[0]['img_data']\n",
    "output_data = output[0]['state_label']\n",
    "\n",
    "BA, BU, C, H, W = input_data.shape\n",
    "_, _, num_balls, num_features = output_data.shape\n",
    "processed_output_data = output_data\n",
    "\n",
    "C_Final = BU * 3 + (BU - 1) * 2\n",
    "input_processed = torch.zeros(BA, num_balls, C_Final, H, W)\n",
    "assert BU == 3\n",
    "for i in range(BA):\n",
    "    for j in range(BU):\n",
    "        img_orig = input_data[i, j, ...]\n",
    "        for k in range(num_balls):\n",
    "            cx, cy, cr = output_data[i, j, k, [0, 1, -2]]\n",
    "            img_masked = tensor_img_dist_circle_mask(img_orig, cx, cy, cr+0.05)\n",
    "            input_processed[i, k, j * 3:(j + 1) * 3, ...] = img_masked\n",
    "            if j != BU-1:\n",
    "                opt_flow = farneback_optical_flow(input_data[i][j], input_data[i][j+1])\n",
    "                opt_flow_masked = tensor_arr_dist_circle_mask(opt_flow, cx, cy, cr, 0.1)\n",
    "                input_processed[i, k, BU*3 + j*2:BU*3 + (j+1)*2, ...] = opt_flow_masked\n",
    "input_processed = torch.flatten(input_processed, end_dim=1)"
   ]
  },
  {
   "cell_type": "code",
   "execution_count": 12,
   "id": "a87d2412-e862-4273-9dbe-ae158f28a96c",
   "metadata": {},
   "outputs": [],
   "source": [
    "#input_processed = input_processed.view(-1, num_balls, C_Final, H, W)\n",
    "#for i in range(BA):\n",
    "   #print(f'batch {i}')\n",
    "   #for k in range(num_balls):\n",
    "       #print(f'ball {k}')\n",
    "       #for j in range(BU):\n",
    "           #print(f'buffer {j}')\n",
    "           #masked_img = input_processed[i,k, j * 3:(j + 1) * 3, ...]\n",
    "           #show_imgs([masked_img])\n",
    "           #if j != BU-1:\n",
    "           #    opt_flow_masked = input_processed[i + k, BU*3 + j*2:BU*3 + (j+1)*2]\n",
    "           #    show_farneback_optical_flows([opt_flow_masked])"
   ]
  },
  {
   "cell_type": "markdown",
   "id": "c94215d7-9b24-4752-8fc4-77b666bddfb6",
   "metadata": {},
   "source": [
    "### labelling function"
   ]
  },
  {
   "cell_type": "code",
   "execution_count": 13,
   "id": "654199c5-811c-4815-83a8-0a5e9c6f1a56",
   "metadata": {},
   "outputs": [
    {
     "name": "stdout",
     "output_type": "stream",
     "text": [
      "tensor(0.1060)\n"
     ]
    }
   ],
   "source": [
    "label = torch.zeros(1000, dtype=torch.long)\n",
    "label[:] = 0\n",
    "\n",
    "output = torch.rand(1000,9)\n",
    "\n",
    "pred_log_prob = F.log_softmax(output, dim=1)\n",
    "preds = torch.argmax(output, dim=1)\n",
    "valid = (label >= 0).long()\n",
    "acc_sum = torch.sum(valid * (preds == label).long())\n",
    "valid_sum = torch.sum(valid)\n",
    "acc = acc_sum.float() / (valid_sum.float() + 1e-10)\n",
    "#print(label)\n",
    "#print(preds)\n",
    "print(acc)"
   ]
  },
  {
   "cell_type": "markdown",
   "id": "2a2312db-2881-43a2-aeee-ea44bc7b11ec",
   "metadata": {},
   "source": [
    "### Dataset indexing function"
   ]
  },
  {
   "cell_type": "code",
   "execution_count": 14,
   "id": "a215afcb-72ea-4a43-b93d-1fc6e986d20f",
   "metadata": {},
   "outputs": [],
   "source": [
    "def idx2idxs(idx, arr):\n",
    "    if all(len(arr[0]) == len(x) for x in arr):\n",
    "        shape = [len(arr), len(arr[0])]\n",
    "        num_dims = len(shape)\n",
    "        offset = 1\n",
    "        idxs = [0] * num_dims\n",
    "        for i in range(num_dims - 1, -1, -1):\n",
    "            idxs[i] = idx // offset % shape[i]\n",
    "            offset *= shape[i]\n",
    "    else:\n",
    "        count = 0\n",
    "        for i in range(len(arr)):\n",
    "            if count + len(arr[i]) > idx:\n",
    "                idxs = [i, idx - count]\n",
    "                break\n",
    "            count += len(arr[i])\n",
    "    return tuple(idxs)"
   ]
  },
  {
   "cell_type": "code",
   "execution_count": 15,
   "id": "8bc14747-74e6-42ef-a258-f906fef6f81b",
   "metadata": {},
   "outputs": [
    {
     "name": "stdout",
     "output_type": "stream",
     "text": [
      "12 199\n",
      "1999\n"
     ]
    }
   ],
   "source": [
    "idx = 1999\n",
    "A = np.arange(1000).reshape((8,-1))\n",
    "B = np.arange(1000, 2000).reshape((5,-1))\n",
    "C = list(A) + list(B)\n",
    "i,j = idx2idxs(idx, C)\n",
    "print(i,j)\n",
    "print(C[i][j])"
   ]
  },
  {
   "cell_type": "code",
   "execution_count": 16,
   "id": "e1b2713f-c382-452d-a6e4-1824a0586338",
   "metadata": {},
   "outputs": [
    {
     "data": {
      "text/plain": [
       "torch.Size([1000, 9])"
      ]
     },
     "execution_count": 16,
     "metadata": {},
     "output_type": "execute_result"
    }
   ],
   "source": [
    "output.shape"
   ]
  },
  {
   "cell_type": "code",
   "execution_count": 17,
   "id": "8113ec61-d0f0-493f-b48a-75f3c2c1d117",
   "metadata": {},
   "outputs": [],
   "source": [
    "output = iterator_train.next()\n",
    "for i in range(2):\n",
    "    opt_flow = farneback_optical_flow(output[0]['img_data'][0][i], output[0]['img_data'][0][i+1])\n",
    "    opt_flow_masks.append(opt_flow)\n",
    "    \n",
    "    for j in range(3):\n",
    "        opt_flow_masks.append(opt_flow)\n",
    "        \n",
    "img1 = cv2.cvtColor(output[0]['img_data'][0][0].permute(1, 2, 0).numpy(), cv2.COLOR_RGB2GRAY)\n",
    "img2 = cv2.cvtColor(output[0]['img_data'][0][1].permute(1, 2, 0).numpy(), cv2.COLOR_RGB2GRAY)\n",
    "\n",
    "opt_flow = cv2.calcOpticalFlowFarneback(img1, img2, None, 0.5, 3, 15, 3, 5, 1.2, 0)\n",
    "opt_flow = opt_flow.transpose((2, 0, 1))\n",
    "opt_flow = torch.from_numpy(opt_flow.copy())"
   ]
  },
  {
   "cell_type": "code",
   "execution_count": null,
   "id": "20c3ad2c-f3b8-49c6-8ab6-698fdc4b5b7e",
   "metadata": {},
   "outputs": [],
   "source": []
  }
 ],
 "metadata": {
  "kernelspec": {
   "display_name": "Python 3 (ipykernel)",
   "language": "python",
   "name": "python3"
  },
  "language_info": {
   "codemirror_mode": {
    "name": "ipython",
    "version": 3
   },
   "file_extension": ".py",
   "mimetype": "text/x-python",
   "name": "python",
   "nbconvert_exporter": "python",
   "pygments_lexer": "ipython3",
   "version": "3.8.10"
  }
 },
 "nbformat": 4,
 "nbformat_minor": 5
}
