{
 "cells": [
  {
   "cell_type": "markdown",
   "id": "fcaa82d6-cd70-4f95-b936-939b56e16be7",
   "metadata": {},
   "source": [
    "### Loading datasets"
   ]
  },
  {
   "cell_type": "code",
   "execution_count": 1,
   "id": "27c5bd49-0616-4088-bba4-dda9544b1623",
   "metadata": {},
   "outputs": [],
   "source": [
    "import torch\n",
    "import cv2\n",
    "import torchvision.transforms.functional as F\n",
    "import numpy as np\n",
    "import matplotlib.pyplot as plt\n",
    "\n",
    "from optical_flow.spynet import spynet_optical_flow \n",
    "from optical_flow.farneback import farneback_optical_flow\n",
    "from data.dataset import MultiDataset\n",
    "\n",
    "# Dataset and Loader\n",
    "dataset_test = MultiDataset(\n",
    "    ['data/same_vis_same_phys/train/sample_0/',\n",
    "     'data/same_vis_same_phys/train/sample_1/',\n",
    "     'data/same_vis_same_phys/train/sample_2/',\n",
    "     'data/same_vis_same_phys/train/sample_3/'],\n",
    "    img_size=(256, 256),\n",
    "    buffer_size=3,\n",
    "    random_order=True\n",
    "    )\n",
    "\n",
    "loader_train = torch.utils.data.DataLoader(\n",
    "    dataset_test,\n",
    "    batch_size=4,  # we have modified data_parallel\n",
    "    shuffle=False,  # we do not use this param\n",
    "    drop_last=True,\n",
    "    pin_memory=True)\n",
    "\n",
    "# create loader iterator\n",
    "iterator_train = iter(loader_train)"
   ]
  },
  {
   "cell_type": "code",
   "execution_count": 2,
   "id": "2e9b920c-6bf1-4226-8aed-cea5e2f75864",
   "metadata": {},
   "outputs": [],
   "source": [
    "plt.rcParams[\"savefig.bbox\"] = 'tight'\n",
    "\n",
    "def img_de_transform(img):\n",
    "    # 0-1 to 1-255\n",
    "    img = np.float32(np.array(img)) * 255.\n",
    "    img = img.transpose((1, 2, 0))\n",
    "    img = torch.from_numpy(img.copy())\n",
    "    return img\n",
    "\n",
    "def show(imgs):\n",
    "    fig, axs = plt.subplots(ncols=len(imgs), squeeze=False)\n",
    "    for i, img in enumerate(imgs):\n",
    "        img = img.detach()\n",
    "        img = F.to_pil_image(img)\n",
    "        axs[0, i].imshow(np.asarray(img))\n",
    "        axs[0, i].set(xticklabels=[], yticklabels=[], xticks=[], yticks=[])"
   ]
  },
  {
   "cell_type": "code",
   "execution_count": 3,
   "id": "59345f33-6d03-4eb2-83d5-0890f02c6608",
   "metadata": {},
   "outputs": [],
   "source": [
    "output = iterator_train.next()"
   ]
  },
  {
   "cell_type": "code",
   "execution_count": 11,
   "id": "6d5e59fb-4eea-4798-9722-3f498907dac1",
   "metadata": {},
   "outputs": [],
   "source": [
    "opt_flow_1 = spynet_optical_flow(output['img_data'][0][0], output['img_data'][0][1]).detach().numpy()\n",
    "opt_flow_2 = farneback_optical_flow(output['img_data'][0][0], output['img_data'][0][1]).detach().numpy()\n",
    "\n",
    "\n",
    "objOutput = open('out.flo', 'wb')\n",
    "np.array([ 80, 73, 69, 72 ], np.uint8).tofile(objOutput)\n",
    "np.array([ opt_flow_1.shape[2], opt_flow_1.shape[1] ], np.int32).tofile(objOutput)\n",
    "np.array(opt_flow_1.transpose(1, 2, 0), np.float32).tofile(objOutput)\n",
    "objOutput.close()"
   ]
  },
  {
   "cell_type": "code",
   "execution_count": 52,
   "id": "3d001d0d-89b2-41b8-88cf-157bb707ddee",
   "metadata": {},
   "outputs": [
    {
     "data": {
      "image/png": "[encoded data removed]",
      "text/plain": [
       "<Figure size 432x288 with 3 Axes>"
      ]
     },
     "metadata": {},
     "output_type": "display_data"
    }
   ],
   "source": [
    "show(output['img_data'][0])"
   ]
  },
  {
   "cell_type": "code",
   "execution_count": 9,
   "id": "a0ede690-cfde-44db-ac03-548ecc624753",
   "metadata": {},
   "outputs": [
    {
     "name": "stderr",
     "output_type": "stream",
     "text": [
      "Clipping input data to the valid range for imshow with RGB data ([0..1] for floats or [0..255] for integers).\n"
     ]
    },
    {
     "data": {
      "text/plain": [
       "<matplotlib.image.AxesImage at 0x7f1556f0a0d0>"
      ]
     },
     "execution_count": 9,
     "metadata": {},
     "output_type": "execute_result"
    },
    {
     "data": {
      "image/png": "[encoded data removed]",
      "text/plain": [
       "<Figure size 432x288 with 1 Axes>"
      ]
     },
     "metadata": {
      "needs_background": "light"
     },
     "output_type": "display_data"
    }
   ],
   "source": [
    "hsv = np.zeros((256,256, 3), dtype=np.float32)\n",
    "hsv[..., 1] = 255\n",
    "mag, ang = cv2.cartToPolar(opt_flow_1[0, ...], opt_flow_1[1, ...])\n",
    "#mag, ang = cv2.cartToPolar(opt_flow[..., 0], opt_flow[..., 1])\n",
    "hsv[..., 0] = ang*180/np.pi/2\n",
    "hsv[..., 2] = cv2.normalize(mag, None, 0, 255, cv2.NORM_MINMAX)\n",
    "bgr = cv2.cvtColor(hsv, cv2.COLOR_HSV2BGR)\n",
    "plt.imshow(bgr)"
   ]
  },
  {
   "cell_type": "code",
   "execution_count": null,
   "id": "02f55e36-5a8c-4393-a23b-034276bf31ab",
   "metadata": {},
   "outputs": [],
   "source": []
  }
 ],
 "metadata": {
  "kernelspec": {
   "display_name": "Python 3 (ipykernel)",
   "language": "python",
   "name": "python3"
  },
  "language_info": {
   "codemirror_mode": {
    "name": "ipython",
    "version": 3
   },
   "file_extension": ".py",
   "mimetype": "text/x-python",
   "name": "python",
   "nbconvert_exporter": "python",
   "pygments_lexer": "ipython3",
   "version": "3.8.10"
  }
 },
 "nbformat": 4,
 "nbformat_minor": 5
}
